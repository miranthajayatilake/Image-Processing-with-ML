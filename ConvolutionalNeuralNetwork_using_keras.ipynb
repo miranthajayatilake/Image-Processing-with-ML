{
 "cells": [
  {
   "cell_type": "markdown",
   "metadata": {},
   "source": [
    "# Simple image processing using MNIST dataset and Keras (with CNN)"
   ]
  },
  {
   "cell_type": "markdown",
   "metadata": {},
   "source": [
    "In the previous exercise we saw how we could achieve over 96% accuracy in predicting the digits of the MNIST dataset using Dense module of Keras. But in the end we witnessed a wrong prediction. \n",
    "\n",
    "Here we'll try to increase the accuracy more using Convolutional Neural Networks."
   ]
  },
  {
   "cell_type": "code",
   "execution_count": 12,
   "metadata": {},
   "outputs": [],
   "source": [
    "from keras.models import Sequential\n",
    "from keras.layers import Dense, Activation, Conv2D, MaxPool2D, Flatten\n",
    "from keras.datasets import mnist\n",
    "from tensorflow.examples.tutorials.mnist import input_data"
   ]
  },
  {
   "cell_type": "code",
   "execution_count": 13,
   "metadata": {},
   "outputs": [
    {
     "name": "stdout",
     "output_type": "stream",
     "text": [
      "Extracting ./train-images-idx3-ubyte.gz\n",
      "Extracting ./train-labels-idx1-ubyte.gz\n",
      "Extracting ./t10k-images-idx3-ubyte.gz\n",
      "Extracting ./t10k-labels-idx1-ubyte.gz\n"
     ]
    }
   ],
   "source": [
    "#Load the data\n",
    "mnist = input_data.read_data_sets('./')"
   ]
  },
  {
   "cell_type": "code",
   "execution_count": 14,
   "metadata": {},
   "outputs": [],
   "source": [
    "# Defining a function to extract data in batches form the dataset\n",
    "def train_data_generator(batch_size):\n",
    "    while(1):\n",
    "        x, y = mnist.train.next_batch(batch_size)\n",
    "        yield x.reshape((-1,28,28,1)), y"
   ]
  },
  {
   "cell_type": "markdown",
   "metadata": {},
   "source": [
    "### Now let's build up the model\n",
    "\n",
    "Notice the Conv2D layer at first. Then we flatten the model before feeding it to the softmax layer in the end."
   ]
  },
  {
   "cell_type": "code",
   "execution_count": 17,
   "metadata": {},
   "outputs": [],
   "source": [
    "model = Sequential()\n",
    "model.add(Conv2D(32, kernel_size=(3,3), padding='same', activation='relu', input_shape=(28,28,1)))\n",
    "model.add(Flatten())\n",
    "model.add(Dense(10, activation='softmax'))\n",
    "model.compile(optimizer = 'adadelta', loss='sparse_categorical_crossentropy')"
   ]
  },
  {
   "cell_type": "code",
   "execution_count": 18,
   "metadata": {},
   "outputs": [
    {
     "name": "stdout",
     "output_type": "stream",
     "text": [
      "Epoch 1/10\n",
      "110/110 [==============================] - 11s 95ms/step - loss: 0.5312\n",
      "Epoch 2/10\n",
      "110/110 [==============================] - 10s 91ms/step - loss: 0.2428\n",
      "Epoch 3/10\n",
      "110/110 [==============================] - 12s 112ms/step - loss: 0.1643\n",
      "Epoch 4/10\n",
      "110/110 [==============================] - 37s 338ms/step - loss: 0.1310\n",
      "Epoch 5/10\n",
      "110/110 [==============================] - 12s 111ms/step - loss: 0.1002\n",
      "Epoch 6/10\n",
      "110/110 [==============================] - 11s 101ms/step - loss: 0.0929\n",
      "Epoch 7/10\n",
      "110/110 [==============================] - 11s 101ms/step - loss: 0.0737\n",
      "Epoch 8/10\n",
      "110/110 [==============================] - 11s 103ms/step - loss: 0.0779\n",
      "Epoch 9/10\n",
      "110/110 [==============================] - 12s 105ms/step - loss: 0.0652\n",
      "Epoch 10/10\n",
      "110/110 [==============================] - 12s 105ms/step - loss: 0.0613\n"
     ]
    },
    {
     "data": {
      "text/plain": [
       "<keras.callbacks.History at 0x1274e64ea90>"
      ]
     },
     "execution_count": 18,
     "metadata": {},
     "output_type": "execute_result"
    }
   ],
   "source": [
    "#Let's train\n",
    "\n",
    "model.fit_generator(train_data_generator(250), mnist.train.num_examples//500, epochs=10)"
   ]
  },
  {
   "cell_type": "code",
   "execution_count": 21,
   "metadata": {},
   "outputs": [
    {
     "name": "stdout",
     "output_type": "stream",
     "text": [
      "0.988\n"
     ]
    }
   ],
   "source": [
    "#Now let's check the accuracy with more data\n",
    "\n",
    "import numpy as np\n",
    "\n",
    "x_test, y_test = mnist.train.next_batch(500)\n",
    "x_test = x_test.reshape((-1,28,28,1))\n",
    "y_pred = model.predict_classes(x_test)\n",
    "accuracy = np.count_nonzero(y_pred == y_test)/len(y_test)\n",
    "print(accuracy)"
   ]
  },
  {
   "cell_type": "markdown",
   "metadata": {},
   "source": [
    "### Here we see an accuracy of over 98%. Nice!"
   ]
  },
  {
   "cell_type": "markdown",
   "metadata": {},
   "source": [
    "Now let's visualize some predictions"
   ]
  },
  {
   "cell_type": "code",
   "execution_count": 23,
   "metadata": {},
   "outputs": [
    {
     "data": {
      "image/png": "[encoded data removed]",
      "text/plain": [
       "<matplotlib.figure.Figure at 0x1274fe680b8>"
      ]
     },
     "metadata": {},
     "output_type": "display_data"
    }
   ],
   "source": [
    "import matplotlib.pyplot as plt\n",
    "%matplotlib inline\n",
    "\n",
    "x_test, y_test = mnist.train.next_batch(5000)\n",
    "\n",
    "img = x_test[232]\n",
    "test_img = img.reshape((-1,28,28,1))\n",
    "img_class = model.predict_classes(test_img) # Feed it in the predict function\n",
    "prediction = img_class[0]\n",
    "img = img.reshape((28,28))\n",
    "plt.imshow(img)\n",
    "plt.title(prediction)\n",
    "plt.show()"
   ]
  },
  {
   "cell_type": "code",
   "execution_count": 24,
   "metadata": {},
   "outputs": [
    {
     "data": {
      "image/png": "[encoded data removed]",
      "text/plain": [
       "<matplotlib.figure.Figure at 0x127505a8be0>"
      ]
     },
     "metadata": {},
     "output_type": "display_data"
    }
   ],
   "source": [
    "img = x_test[4126]\n",
    "test_img = img.reshape((-1,28,28,1))\n",
    "img_class = model.predict_classes(test_img) # Feed it in the predict function\n",
    "prediction = img_class[0]\n",
    "img = img.reshape((28,28))\n",
    "plt.imshow(img)\n",
    "plt.title(prediction)\n",
    "plt.show()"
   ]
  },
  {
   "cell_type": "code",
   "execution_count": 26,
   "metadata": {},
   "outputs": [
    {
     "data": {
      "image/png": "[encoded data removed]",
      "text/plain": [
       "<matplotlib.figure.Figure at 0x12750626240>"
      ]
     },
     "metadata": {},
     "output_type": "display_data"
    }
   ],
   "source": [
    "img = x_test[85]\n",
    "test_img = img.reshape((-1,28,28,1))\n",
    "img_class = model.predict_classes(test_img) # Feed it in the predict function\n",
    "prediction = img_class[0]\n",
    "img = img.reshape((28,28))\n",
    "plt.imshow(img)\n",
    "plt.title(prediction)\n",
    "plt.show()"
   ]
  },
  {
   "cell_type": "code",
   "execution_count": 27,
   "metadata": {},
   "outputs": [
    {
     "data": {
      "image/png": "[encoded data removed]",
      "text/plain": [
       "<matplotlib.figure.Figure at 0x12750709668>"
      ]
     },
     "metadata": {},
     "output_type": "display_data"
    }
   ],
   "source": [
    "img = x_test[22]\n",
    "test_img = img.reshape((-1,28,28,1))\n",
    "img_class = model.predict_classes(test_img) # Feed it in the predict function\n",
    "prediction = img_class[0]\n",
    "img = img.reshape((28,28))\n",
    "plt.imshow(img)\n",
    "plt.title(prediction)\n",
    "plt.show()"
   ]
  },
  {
   "cell_type": "code",
   "execution_count": 28,
   "metadata": {},
   "outputs": [
    {
     "data": {
      "image/png": "[encoded data removed]",
      "text/plain": [
       "<matplotlib.figure.Figure at 0x12750725438>"
      ]
     },
     "metadata": {},
     "output_type": "display_data"
    }
   ],
   "source": [
    "img = x_test[6]\n",
    "test_img = img.reshape((-1,28,28,1))\n",
    "img_class = model.predict_classes(test_img) # Feed it in the predict function\n",
    "prediction = img_class[0]\n",
    "img = img.reshape((28,28))\n",
    "plt.imshow(img)\n",
    "plt.title(prediction)\n",
    "plt.show()"
   ]
  },
  {
   "cell_type": "code",
   "execution_count": 29,
   "metadata": {},
   "outputs": [
    {
     "data": {
      "image/png": "[encoded data removed]",
      "text/plain": [
       "<matplotlib.figure.Figure at 0x12750753ac8>"
      ]
     },
     "metadata": {},
     "output_type": "display_data"
    }
   ],
   "source": [
    "img = x_test[951]\n",
    "test_img = img.reshape((-1,28,28,1))\n",
    "img_class = model.predict_classes(test_img) # Feed it in the predict function\n",
    "prediction = img_class[0]\n",
    "img = img.reshape((28,28))\n",
    "plt.imshow(img)\n",
    "plt.title(prediction)\n",
    "plt.show()"
   ]
  },
  {
   "cell_type": "markdown",
   "metadata": {},
   "source": [
    "As it can be seen here, the model preforms quite well with even noisy inputs"
   ]
  },
  {
   "cell_type": "markdown",
   "metadata": {},
   "source": [
    "## Let's try and increase the accuracy more by using a technique known as Max pooling\n",
    "\n",
    "Modifying the model"
   ]
  },
  {
   "cell_type": "code",
   "execution_count": 31,
   "metadata": {},
   "outputs": [],
   "source": [
    "model = Sequential()\n",
    "model.add(Conv2D(32, kernel_size=(3,3), padding='same', activation='relu', input_shape = (28,28,1)))\n",
    "model.add(MaxPool2D(pool_size=(2, 2)))\n",
    "model.add(Conv2D(32, kernel_size=(3,3), padding='same', activation='relu'))\n",
    "model.add(MaxPool2D(pool_size=(2, 2)))\n",
    "model.add(Conv2D(32, kernel_size=(3,3), padding='same', activation='relu'))\n",
    "model.add(MaxPool2D(pool_size=(2, 2)))\n",
    "model.add(Flatten())\n",
    "model.add(Dense(10, activation='softmax'))\n",
    "model.compile(optimizer='adadelta', loss='sparse_categorical_crossentropy')"
   ]
  },
  {
   "cell_type": "code",
   "execution_count": 32,
   "metadata": {},
   "outputs": [
    {
     "name": "stdout",
     "output_type": "stream",
     "text": [
      "Epoch 1/1\n",
      "214/214 [==============================] - 109s 508ms/step - loss: 0.5004\n"
     ]
    },
    {
     "data": {
      "text/plain": [
       "<keras.callbacks.History at 0x127507b6dd8>"
      ]
     },
     "execution_count": 32,
     "metadata": {},
     "output_type": "execute_result"
    }
   ],
   "source": [
    "batch_size = 256\n",
    "model.fit_generator(train_data_generator(batch_size=batch_size), mnist.train.num_examples//batch_size, epochs=1)"
   ]
  },
  {
   "cell_type": "code",
   "execution_count": 34,
   "metadata": {},
   "outputs": [
    {
     "name": "stdout",
     "output_type": "stream",
     "text": [
      "0.966\n"
     ]
    }
   ],
   "source": [
    "#If we perform the accuracy test again\n",
    "\n",
    "x_test, y_test = mnist.train.next_batch(500)\n",
    "x_test = x_test.reshape((-1,28,28,1))\n",
    "y_pred = model.predict_classes(x_test)\n",
    "accuracy = np.count_nonzero(y_pred == y_test)/len(y_test)\n",
    "print(accuracy)"
   ]
  },
  {
   "cell_type": "markdown",
   "metadata": {},
   "source": [
    "Oh! we get reduced accuracy. This is where advance concepts of ML come into play with puching that minute amount closer to 100%. Anyways this marks a good start if you're getting into using Neural Networks."
   ]
  },
  {
   "cell_type": "code",
   "execution_count": null,
   "metadata": {},
   "outputs": [],
   "source": []
  }
 ],
 "metadata": {
  "kernelspec": {
   "display_name": "Python 3",
   "language": "python",
   "name": "python3"
  },
  "language_info": {
   "codemirror_mode": {
    "name": "ipython",
    "version": 3
   },
   "file_extension": ".py",
   "mimetype": "text/x-python",
   "name": "python",
   "nbconvert_exporter": "python",
   "pygments_lexer": "ipython3",
   "version": "3.5.2"
  }
 },
 "nbformat": 4,
 "nbformat_minor": 2
}
